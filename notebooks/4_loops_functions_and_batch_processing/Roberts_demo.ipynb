{
 "cells": [
  {
   "cell_type": "markdown",
   "id": "4fe998b3",
   "metadata": {},
   "source": [
    "First, we import libraries to show what we are using. If somebody downloads this notebooks and wants to use it, they can check first if everything is installed that's necessary."
   ]
  },
  {
   "cell_type": "code",
   "execution_count": 1,
   "id": "ff78fa29",
   "metadata": {},
   "outputs": [],
   "source": [
    "import os\n",
    "from skimage.io import imread, imshow\n",
    "from skimage.filters import threshold_otsu\n",
    "import numpy as np"
   ]
  },
  {
   "cell_type": "markdown",
   "id": "074b2752",
   "metadata": {},
   "source": [
    "Access a folder and get all the filenames in the folder as list of strings."
   ]
  },
  {
   "cell_type": "code",
   "execution_count": 2,
   "id": "bd517788",
   "metadata": {},
   "outputs": [
    {
     "data": {
      "text/plain": [
       "['banana0014.tif',\n",
       " 'banana0015.tif',\n",
       " 'banana0016.tif',\n",
       " 'banana0017.tif',\n",
       " 'image_source.txt']"
      ]
     },
     "execution_count": 2,
     "metadata": {},
     "output_type": "execute_result"
    }
   ],
   "source": [
    "list_of_files = os.listdir(r\"C:\\Users\\rober\\Desktop\\banana\")\n",
    "list_of_files"
   ]
  },
  {
   "cell_type": "markdown",
   "id": "3b049e99",
   "metadata": {},
   "source": [
    "We can also go trough that list using a for-loop."
   ]
  },
  {
   "cell_type": "code",
   "execution_count": 3,
   "id": "21665f88",
   "metadata": {},
   "outputs": [
    {
     "name": "stdout",
     "output_type": "stream",
     "text": [
      "banana0014.tif\n",
      "banana0015.tif\n",
      "banana0016.tif\n",
      "banana0017.tif\n",
      "image_source.txt\n"
     ]
    }
   ],
   "source": [
    "for file_name in list_of_files:\n",
    "    print(file_name)"
   ]
  },
  {
   "cell_type": "markdown",
   "id": "1bef9b28",
   "metadata": {},
   "source": [
    "If we only want to print (and later analyse) the images only in that folder, we need to use and if-statement to differentiate between image files and non-image files."
   ]
  },
  {
   "cell_type": "code",
   "execution_count": 4,
   "id": "9dbb15c0",
   "metadata": {},
   "outputs": [
    {
     "name": "stdout",
     "output_type": "stream",
     "text": [
      "banana0014.tif\n",
      "banana0015.tif\n",
      "banana0016.tif\n",
      "banana0017.tif\n"
     ]
    }
   ],
   "source": [
    "for file_name in list_of_files:\n",
    "    if file_name.endswith(\".tif\"):\n",
    "        print(file_name)\n"
   ]
  },
  {
   "cell_type": "markdown",
   "id": "c3344b3f",
   "metadata": {},
   "source": [
    "An image analysis procedure is best conserved in a function. We can then easily reuse it later on."
   ]
  },
  {
   "cell_type": "code",
   "execution_count": 5,
   "id": "d5fc593d",
   "metadata": {},
   "outputs": [],
   "source": [
    "def analyze_image(filename):\n",
    "    # open file\n",
    "    image = imread(filename)\n",
    "\n",
    "    # segment image\n",
    "    threshold = threshold_otsu(image)\n",
    "    binary_image = image > threshold\n",
    "\n",
    "    # count white pixels\n",
    "    return np.sum(binary_image)"
   ]
  },
  {
   "cell_type": "markdown",
   "id": "8f65ca52",
   "metadata": {},
   "source": [
    "The cell above doesn't do anything. It just defines a function. We can then afterwards use it by calling it, with a specfic file name."
   ]
  },
  {
   "cell_type": "code",
   "execution_count": 6,
   "id": "b796eb35",
   "metadata": {},
   "outputs": [
    {
     "data": {
      "text/plain": [
       "8145"
      ]
     },
     "execution_count": 6,
     "metadata": {},
     "output_type": "execute_result"
    }
   ],
   "source": [
    "analyze_image(\"Desktop/banana/banana0015.tif\")"
   ]
  },
  {
   "cell_type": "markdown",
   "id": "238b2129",
   "metadata": {},
   "source": [
    "Here we combine now the function for processing images and the for-loop with the if-statement. All images in that folder are analysed and the number of white pixels is printed out."
   ]
  },
  {
   "cell_type": "code",
   "execution_count": 7,
   "id": "5fc14893",
   "metadata": {},
   "outputs": [
    {
     "name": "stdout",
     "output_type": "stream",
     "text": [
      "banana0014.tif\n",
      "7908\n",
      "banana0015.tif\n",
      "8145\n",
      "banana0016.tif\n",
      "8367\n",
      "banana0017.tif\n",
      "8581\n"
     ]
    }
   ],
   "source": [
    "for file_name in list_of_files:\n",
    "    if file_name.endswith(\".tif\"):\n",
    "        print(file_name)\n",
    "        number_of_white_pixels = analyze_image(\"Desktop/banana/\" + file_name)\n",
    "        print(number_of_white_pixels)"
   ]
  },
  {
   "cell_type": "code",
   "execution_count": null,
   "id": "08147ca9",
   "metadata": {},
   "outputs": [],
   "source": []
  }
 ],
 "metadata": {
  "kernelspec": {
   "display_name": "Python 3 (ipykernel)",
   "language": "python",
   "name": "python3"
  },
  "language_info": {
   "codemirror_mode": {
    "name": "ipython",
    "version": 3
   },
   "file_extension": ".py",
   "mimetype": "text/x-python",
   "name": "python",
   "nbconvert_exporter": "python",
   "pygments_lexer": "ipython3",
   "version": "3.9.10"
  }
 },
 "nbformat": 4,
 "nbformat_minor": 5
}
