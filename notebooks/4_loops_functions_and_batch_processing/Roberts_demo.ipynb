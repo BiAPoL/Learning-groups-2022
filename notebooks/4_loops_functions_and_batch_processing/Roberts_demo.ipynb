{
 "cells": [
  {
   "cell_type": "markdown",
   "id": "44985819",
   "metadata": {},
   "source": [
    "First, we import libraries to show what we are using. If somebody downloads this notebooks and wants to use it, they can check first if everything is installed that's necessary."
   ]
  },
  {
   "cell_type": "code",
   "execution_count": 1,
   "id": "7157f5d9",
   "metadata": {},
   "outputs": [],
   "source": [
    "import os\n",
    "from skimage.io import imread, imshow\n",
    "from skimage.filters import threshold_otsu\n",
    "import numpy as np"
   ]
  },
  {
   "cell_type": "markdown",
   "id": "162678d4",
   "metadata": {},
   "source": [
    "Access a folder and get all the filenames in the folder as list of strings."
   ]
  },
  {
   "cell_type": "code",
   "execution_count": 2,
   "id": "01448b5b",
   "metadata": {},
   "outputs": [
    {
     "data": {
      "text/plain": [
       "['banana0014.tif',\n",
       " 'banana0015.tif',\n",
       " 'banana0016.tif',\n",
       " 'banana0017.tif',\n",
       " 'image_source.txt']"
      ]
     },
     "execution_count": 2,
     "metadata": {},
     "output_type": "execute_result"
    }
   ],
   "source": [
    "list_of_files = os.listdir(r\"C:\\Users\\rober\\Desktop\\banana\")\n",
    "list_of_files"
   ]
  },
  {
   "cell_type": "markdown",
   "id": "1bd15ee6",
   "metadata": {},
   "source": [
    "We can also go through that list using a _for-loop_."
   ]
  },
  {
   "cell_type": "code",
   "execution_count": 3,
   "id": "1766131e",
   "metadata": {},
   "outputs": [
    {
     "name": "stdout",
     "output_type": "stream",
     "text": [
      "banana0014.tif\n",
      "banana0015.tif\n",
      "banana0016.tif\n",
      "banana0017.tif\n",
      "image_source.txt\n"
     ]
    }
   ],
   "source": [
    "for file_name in list_of_files:\n",
    "    print(file_name)"
   ]
  },
  {
   "cell_type": "markdown",
   "id": "ff6d75b0",
   "metadata": {},
   "source": [
    "If we only want to print (and later analyse) the images only in that folder, we need to use an _if-statement_ to differentiate between image files and non-image files."
   ]
  },
  {
   "cell_type": "code",
   "execution_count": 4,
   "id": "322b89ff",
   "metadata": {},
   "outputs": [
    {
     "name": "stdout",
     "output_type": "stream",
     "text": [
      "banana0014.tif\n",
      "banana0015.tif\n",
      "banana0016.tif\n",
      "banana0017.tif\n"
     ]
    }
   ],
   "source": [
    "for file_name in list_of_files:\n",
    "    if file_name.endswith(\".tif\"):\n",
    "        print(file_name)\n"
   ]
  },
  {
   "cell_type": "markdown",
   "id": "027d29fa",
   "metadata": {},
   "source": [
    "An image analysis procedure is best conserved in a function. We can then easily reuse it later on."
   ]
  },
  {
   "cell_type": "code",
   "execution_count": 5,
   "id": "32abd130",
   "metadata": {},
   "outputs": [],
   "source": [
    "def analyze_image(filename):\n",
    "    # open file\n",
    "    image = imread(filename)\n",
    "\n",
    "    # segment image\n",
    "    threshold = threshold_otsu(image)\n",
    "    binary_image = image > threshold\n",
    "\n",
    "    # count white pixels\n",
    "    return np.sum(binary_image)"
   ]
  },
  {
   "cell_type": "markdown",
   "id": "8dbfca06",
   "metadata": {},
   "source": [
    "The cell above doesn't do anything. It just defines a function. We can then afterwards use it by calling it, with a specfic file name."
   ]
  },
  {
   "cell_type": "code",
   "execution_count": 6,
   "id": "ba4ab80a",
   "metadata": {},
   "outputs": [
    {
     "data": {
      "text/plain": [
       "8145"
      ]
     },
     "execution_count": 6,
     "metadata": {},
     "output_type": "execute_result"
    }
   ],
   "source": [
    "analyze_image(\"Desktop/banana/banana0015.tif\")"
   ]
  },
  {
   "cell_type": "markdown",
   "id": "d8aaf968",
   "metadata": {},
   "source": [
    "Here we combine now the function for processing images and the _for-loop_ with the _if-statement_. All images in that folder are analysed and the number of white pixels is printed out."
   ]
  },
  {
   "cell_type": "code",
   "execution_count": 7,
   "id": "2a069f5e",
   "metadata": {},
   "outputs": [
    {
     "name": "stdout",
     "output_type": "stream",
     "text": [
      "banana0014.tif\n",
      "7908\n",
      "banana0015.tif\n",
      "8145\n",
      "banana0016.tif\n",
      "8367\n",
      "banana0017.tif\n",
      "8581\n"
     ]
    }
   ],
   "source": [
    "for file_name in list_of_files:\n",
    "    if file_name.endswith(\".tif\"):\n",
    "        print(file_name)\n",
    "        number_of_white_pixels = analyze_image(\"Desktop/banana/\" + file_name)\n",
    "        print(number_of_white_pixels)"
   ]
  },
  {
   "cell_type": "code",
   "execution_count": null,
   "id": "2a897529",
   "metadata": {},
   "outputs": [],
   "source": []
  }
 ],
 "metadata": {
  "kernelspec": {
   "display_name": "Python 3 (ipykernel)",
   "language": "python",
   "name": "python3"
  },
  "language_info": {
   "codemirror_mode": {
    "name": "ipython",
    "version": 3
   },
   "file_extension": ".py",
   "mimetype": "text/x-python",
   "name": "python",
   "nbconvert_exporter": "python",
   "pygments_lexer": "ipython3",
   "version": "3.9.10"
  }
 },
 "nbformat": 4,
 "nbformat_minor": 5
}
