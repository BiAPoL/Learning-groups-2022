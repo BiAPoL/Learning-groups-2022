{
 "cells": [
  {
   "cell_type": "markdown",
   "id": "f1d5169c-634e-48c3-b98f-70c1e582dee2",
   "metadata": {},
   "source": [
    "# File operations in Python\n",
    "\n",
    "When we want to batch-process image data - i.e., apply the same workflow to a potentially large number of images - we can easily do this in Python. This requires, though, that we need to access the filesystem and and browse all images  that meet a certain criteria. Such criteria could be:\n",
    "\n",
    "* We want to work with only `.tif` images\n",
    "* Images could be stored in two different subdirectories like this:\n",
    "```\n",
    "root_directory/\n",
    "   sub_directory_a/\n",
    "     image_1.tif\n",
    "     image_2.tif\n",
    "     ...\n",
    "   sub_directory_b/\n",
    "     different_experiment_1.tif\n",
    "     different_experiment_2.tif\n",
    "     ...\n",
    "```\n",
    "* Images should carry some specific ID in their name. This is helpful if your images are called like this\n",
    "```\n",
    "root_directory/\n",
    "   experiment1_image1.tif\n",
    "   experiment1_image2.tif\n",
    "   experiment2_image1.tif\n",
    "   experiment2_image2.tif\n",
    "   ...\n",
    "```\n",
    "\n",
    "## The os package\n",
    "\n",
    "`os` is a very handy package to do such things. In this tutorial we will explain some file operations you can do with `os`, like how to iterate over files in a directory. `os` is automatically installed into with every new environent that is created, so we don't have to install separately."
   ]
  },
  {
   "cell_type": "code",
   "execution_count": 1,
   "id": "80d297cb-b1bd-4a16-bb28-386cffdfb48f",
   "metadata": {},
   "outputs": [],
   "source": [
    "import os"
   ]
  },
  {
   "cell_type": "markdown",
   "id": "9feeaf4d-2e6f-4de2-91c6-d7ba2d5a02e2",
   "metadata": {},
   "source": [
    "**Note**: There are two different types of paths: *Absolute paths* and *Relative paths*. Absolute paths always show the full pathname of a file in a `Drive/folder/file` kind of structure. Relative paths are more like directions to a file from the location of another file. Relative paths can look like this `./folder/file`. The `./` refers to the current location. In this tutorial we will stick to absolute paths.\n",
    "\n",
    "Let's start with obtaining the file location where we are working right now (the current working directory). This returns an absolute path:"
   ]
  },
  {
   "cell_type": "code",
   "execution_count": 4,
   "id": "5c53207e-1616-4254-b98e-39cf0523d881",
   "metadata": {},
   "outputs": [
    {
     "data": {
      "text/plain": [
       "'E:\\\\BiAPoL\\\\Projects\\\\playing-hours-2022\\\\04_batch_processing_and_loops'"
      ]
     },
     "execution_count": 4,
     "metadata": {},
     "output_type": "execute_result"
    }
   ],
   "source": [
    "os.getcwd()"
   ]
  },
  {
   "cell_type": "markdown",
   "id": "3e2d8aca-fb2d-4eb9-a85f-b881ec0264c5",
   "metadata": {},
   "source": [
    "Let's assume we have some data stored on the Desktop. For this, create a folder on your Desktop, call it `my_data` and put `blobs.tif` inside. Now we create a string with the location of the desktop:"
   ]
  },
  {
   "cell_type": "code",
   "execution_count": 5,
   "id": "43b606e0-fbd7-4cea-b7af-410451695728",
   "metadata": {},
   "outputs": [],
   "source": [
    "root = r'C:\\Users\\johan\\Desktop'"
   ]
  },
  {
   "cell_type": "markdown",
   "id": "58254794-65c1-4c2f-a3fd-59a1d2958384",
   "metadata": {},
   "source": [
    "Let's have alook at all the stuff on our Desktop - the directory `my_data` should be there now:"
   ]
  },
  {
   "cell_type": "code",
   "execution_count": 6,
   "id": "f96f3210-70f4-4b21-9742-390fe87328ce",
   "metadata": {},
   "outputs": [
    {
     "data": {
      "text/plain": [
       "['desktop.ini', 'Mailbox', 'MQ', 'my_data', 'PoL-Johannes']"
      ]
     },
     "execution_count": 6,
     "metadata": {},
     "output_type": "execute_result"
    }
   ],
   "source": [
    "os.listdir(root)"
   ]
  },
  {
   "cell_type": "markdown",
   "id": "498c54aa-79b0-4f64-968d-d6ad5b79b324",
   "metadata": {},
   "source": [
    "To obtain the complete path name of `blobs.tif` we can string together the directory structure towards the image with `os.path.join`. This will create full path to the image we are looking for. We can also check if this image really exists where we think it is.\n",
    "\n",
    "*Note*: This could be done in a simpler fashion by simply doing something like `path = root + '/my_data' + 'blobs.tif'`, but the huge advantage of `os.path.join` is that it takes care of the file format and we don't have to think about using `/` or `\\` or `\\\\`, etc. Hence, this will work on all operating systems."
   ]
  },
  {
   "cell_type": "code",
   "execution_count": 9,
   "id": "3004cb52-a2b6-4621-a45e-2cafcb5fdf0a",
   "metadata": {},
   "outputs": [
    {
     "data": {
      "text/plain": [
       "True"
      ]
     },
     "execution_count": 9,
     "metadata": {},
     "output_type": "execute_result"
    }
   ],
   "source": [
    "filename_image = os.path.join(root, 'my_data', 'blobs.tif')\n",
    "os.path.exists(filename_image)  # returns True if image exists"
   ]
  },
  {
   "cell_type": "markdown",
   "id": "a34d3d0a-e85c-4cb6-be0e-ad4ff0a71b5c",
   "metadata": {},
   "source": [
    "## Iterating over directories\n",
    "\n",
    "Now, go to the `my_data`  directory and copy the `blobs.tif` image a couple of time, nevermind the names of the copied images. Let's now create a new file string that points directly to the data directory and print all the files there:"
   ]
  },
  {
   "cell_type": "code",
   "execution_count": 14,
   "id": "8328c769-c1c3-474b-a654-9dd18358a3bf",
   "metadata": {},
   "outputs": [
    {
     "data": {
      "text/plain": [
       "['blobs - Kopie (2).tif',\n",
       " 'blobs - Kopie (3).tif',\n",
       " 'blobs - Kopie.tif',\n",
       " 'blobs.tif']"
      ]
     },
     "execution_count": 14,
     "metadata": {},
     "output_type": "execute_result"
    }
   ],
   "source": [
    "data_dir = os.path.join(root, 'my_data')\n",
    "list_of_images = os.listdir(data_dir)\n",
    "list_of_images"
   ]
  },
  {
   "cell_type": "markdown",
   "id": "1c0cbda1-c7f2-4800-af51-9ef1394d357e",
   "metadata": {},
   "source": [
    "To iterate over all the images here, we need a `for` loop. Python provides a very simple syntax for such operations. \n",
    "\n",
    "**Important**: Everything that is indended, happens *within* the loop and is potentially overwritten during each cycle of the loop! The loop ends when the indendation is decreased again:"
   ]
  },
  {
   "cell_type": "code",
   "execution_count": 52,
   "id": "8d7f95ae-3cad-439d-bfad-2d84cb4273fb",
   "metadata": {},
   "outputs": [
    {
     "name": "stdout",
     "output_type": "stream",
     "text": [
      "blobs - Kopie (2).tif\n",
      "blobs - Kopie (3).tif\n",
      "blobs - Kopie.tif\n",
      "blobs.tif\n",
      "Loop finished!\n"
     ]
    }
   ],
   "source": [
    "for filename in list_of_images:\n",
    "    print(filename)  # The variable filename is the \"iterator\": It changes in every step of the loop\n",
    "\n",
    "print('Loop finished!')"
   ]
  },
  {
   "cell_type": "markdown",
   "id": "2f260edf-6d0f-4a22-bd18-11ffa3321b27",
   "metadata": {},
   "source": [
    "Note that this does not return the full filename, but only the \"base name\" of the file. To retrieve the full path we can do:"
   ]
  },
  {
   "cell_type": "code",
   "execution_count": 20,
   "id": "d64f035f-b749-413a-8188-85f86625cf21",
   "metadata": {},
   "outputs": [
    {
     "name": "stdout",
     "output_type": "stream",
     "text": [
      "C:\\Users\\johan\\Desktop\\my_data\\blobs - Kopie (2).tif\n",
      "C:\\Users\\johan\\Desktop\\my_data\\blobs - Kopie (3).tif\n",
      "C:\\Users\\johan\\Desktop\\my_data\\blobs - Kopie.tif\n",
      "C:\\Users\\johan\\Desktop\\my_data\\blobs.tif\n"
     ]
    }
   ],
   "source": [
    "for filename in list_of_images:\n",
    "    full_path = os.path.join(data_dir, filename)\n",
    "    print(full_path)\n",
    "    \n",
    "    # image = io.imread(full_path)  # We could now read each image like this, but `image` would be overwritten in every cycle of the loop."
   ]
  },
  {
   "cell_type": "markdown",
   "id": "fee7e70a-9705-4106-9180-9e5d00a0e45b",
   "metadata": {},
   "source": [
    "## Subdirectories\n",
    "\n",
    "Next exercise: Let's put all the files we have created into a new directory and call this one `Experiment_1`. Then we copy the created directory (and all the files within) at the same location and call it `Experiment_2`. You'll see that `os.listdir()` now shows this output:"
   ]
  },
  {
   "cell_type": "code",
   "execution_count": 21,
   "id": "cc1ee024-7b0f-46cf-86d1-2b706050fd00",
   "metadata": {},
   "outputs": [
    {
     "data": {
      "text/plain": [
       "['Experiment_1', 'Experiment_2']"
      ]
     },
     "execution_count": 21,
     "metadata": {},
     "output_type": "execute_result"
    }
   ],
   "source": [
    "os.listdir(data_dir)"
   ]
  },
  {
   "cell_type": "markdown",
   "id": "cfec48b8-2efc-4ef6-a657-a8f37ec6aa6c",
   "metadata": {},
   "source": [
    "In order to browse all images in all subdirectories at a given location, we can use the very powerful `os.walk()` function, which can browse **all files** in **all subdirectories** at a given location. Applying `os.walk` like this will return in lists for every subdirectory, along with the respective directory:"
   ]
  },
  {
   "cell_type": "code",
   "execution_count": 33,
   "id": "ec2528f9-1b1d-4530-a4a5-9d9fa77e9f01",
   "metadata": {},
   "outputs": [
    {
     "name": "stdout",
     "output_type": "stream",
     "text": [
      "These are all subdirectories at C:\\Users\\johan\\Desktop\\my_data\n",
      "['Experiment_1', 'Experiment_2']\n",
      "And these are all the files at C:\\Users\\johan\\Desktop\\my_data\n",
      "[]\n",
      "\n",
      "\n",
      "These are all subdirectories at C:\\Users\\johan\\Desktop\\my_data\\Experiment_1\n",
      "[]\n",
      "And these are all the files at C:\\Users\\johan\\Desktop\\my_data\\Experiment_1\n",
      "['blobs - Kopie (2).tif', 'blobs - Kopie (3).tif', 'blobs - Kopie.tif', 'blobs.tif']\n",
      "\n",
      "\n",
      "These are all subdirectories at C:\\Users\\johan\\Desktop\\my_data\\Experiment_2\n",
      "[]\n",
      "And these are all the files at C:\\Users\\johan\\Desktop\\my_data\\Experiment_2\n",
      "['blobs - Kopie (2).tif', 'blobs - Kopie (3).tif', 'blobs - Kopie.tif', 'blobs.tif']\n",
      "\n",
      "\n"
     ]
    }
   ],
   "source": [
    "for root, subdirs, files in os.walk(data_dir):\n",
    "    print('These are all subdirectories at ' + root)\n",
    "    print(subdirs)\n",
    "    \n",
    "    print('And these are all the files at ' + root)\n",
    "    print(files)\n",
    "    \n",
    "    print('\\n')  # print a new line for clarity"
   ]
  },
  {
   "cell_type": "markdown",
   "id": "129436ed-cc15-480a-b899-acdbd5a9a3ea",
   "metadata": {},
   "source": [
    "This seems complicated to handle. One way to operate this function, would be to iterate over all images in all subdirectories. To do this, we have to put a `for-loop` inside another `for-loop`. This is also called a **nested loop**. Note that you have to increase the indendation to indicate the beginning of another loop:"
   ]
  },
  {
   "cell_type": "code",
   "execution_count": 37,
   "id": "9ff04e82-e6bb-46f1-8eac-f6ee7c4377ea",
   "metadata": {},
   "outputs": [
    {
     "name": "stdout",
     "output_type": "stream",
     "text": [
      "Directory: C:\\Users\\johan\\Desktop\\my_data\\Experiment_1 Filename:  blobs - Kopie (2).tif\n",
      "Directory: C:\\Users\\johan\\Desktop\\my_data\\Experiment_1 Filename:  blobs - Kopie (3).tif\n",
      "Directory: C:\\Users\\johan\\Desktop\\my_data\\Experiment_1 Filename:  blobs - Kopie.tif\n",
      "Directory: C:\\Users\\johan\\Desktop\\my_data\\Experiment_1 Filename:  blobs.tif\n",
      "Directory: C:\\Users\\johan\\Desktop\\my_data\\Experiment_2 Filename:  blobs - Kopie (2).tif\n",
      "Directory: C:\\Users\\johan\\Desktop\\my_data\\Experiment_2 Filename:  blobs - Kopie (3).tif\n",
      "Directory: C:\\Users\\johan\\Desktop\\my_data\\Experiment_2 Filename:  blobs - Kopie.tif\n",
      "Directory: C:\\Users\\johan\\Desktop\\my_data\\Experiment_2 Filename:  blobs.tif\n"
     ]
    }
   ],
   "source": [
    "for root, subdirs, files in os.walk(data_dir):\n",
    "    for file in files:\n",
    "        print('Directory:', root, 'Filename: ', file)  # os.walk() gives you the correct directy as you iterate over the files :)"
   ]
  },
  {
   "cell_type": "markdown",
   "id": "e715c4bc-5f30-4a75-b6ad-2ff2671d0158",
   "metadata": {},
   "source": [
    "## Checking filenames\n",
    "\n",
    "Last exercise: Suppose we want to work only wih the original images, and not the copied images, e.g., the ones carrying the string `Kopie` in them. You can easily check this with an `if-condition`. Be careful: You have to increase the indendation yet another time! To do so, we need to check if we can find the string `Kopie` in the filename. Python allows you to do this very easily like this:"
   ]
  },
  {
   "cell_type": "code",
   "execution_count": 38,
   "id": "76a975fb-71d0-4c4d-be94-7d1d5602c3b3",
   "metadata": {},
   "outputs": [
    {
     "data": {
      "text/plain": [
       "True"
      ]
     },
     "execution_count": 38,
     "metadata": {},
     "output_type": "execute_result"
    }
   ],
   "source": [
    "'Johannes' in 'Johannes Mueller'"
   ]
  },
  {
   "cell_type": "code",
   "execution_count": 39,
   "id": "ba167d5c-b244-4775-9300-8b3adf9ad551",
   "metadata": {},
   "outputs": [],
   "source": [
    "'Johanes' in 'Johannes Mueller'"
   ]
  },
  {
   "cell_type": "markdown",
   "id": "fb2abe1c-d105-4d0f-9851-548d5bce3aac",
   "metadata": {},
   "source": [
    "Let's apply this:"
   ]
  },
  {
   "cell_type": "code",
   "execution_count": 42,
   "id": "ad79eb19-dec2-43a4-92b4-c1bec4647a08",
   "metadata": {},
   "outputs": [
    {
     "name": "stdout",
     "output_type": "stream",
     "text": [
      "Directory: C:\\Users\\johan\\Desktop\\my_data\\Experiment_1 Filename:  blobs.tif\n",
      "Directory: C:\\Users\\johan\\Desktop\\my_data\\Experiment_2 Filename:  blobs.tif\n"
     ]
    }
   ],
   "source": [
    "for root, subdirs, files in os.walk(data_dir):\n",
    "    for file in files:\n",
    "        if not 'Kopie' in file:\n",
    "            print('Directory:', root, 'Filename: ', file)\n",
    "            \n",
    "            # actual work on images goes here - don't forget the indendation\n",
    "            # image = io.imread(os.path.join(root, file)\n",
    "            \n",
    "# putting a command here (like image = io.imread(os.path.join(root, file)) will only work on the last known value of `root` and `file`!"
   ]
  },
  {
   "cell_type": "markdown",
   "id": "bd8c1988-8a0d-40d1-900c-321410e1dac4",
   "metadata": {},
   "source": [
    "We could use this technique to check if the image is a tif file:"
   ]
  },
  {
   "cell_type": "code",
   "execution_count": 51,
   "id": "b5a665be-d574-45b7-9f94-48b2ef5acd08",
   "metadata": {},
   "outputs": [
    {
     "name": "stdout",
     "output_type": "stream",
     "text": [
      "Directory: C:\\Users\\johan\\Desktop\\my_data\\Experiment_1 Filename:  blobs - Kopie (2).tif\n",
      "Directory: C:\\Users\\johan\\Desktop\\my_data\\Experiment_1 Filename:  blobs - Kopie (3).tif\n",
      "Directory: C:\\Users\\johan\\Desktop\\my_data\\Experiment_1 Filename:  blobs - Kopie.tif\n",
      "Directory: C:\\Users\\johan\\Desktop\\my_data\\Experiment_1 Filename:  blobs.tif\n",
      "Directory: C:\\Users\\johan\\Desktop\\my_data\\Experiment_2 Filename:  blobs - Kopie (2).tif\n",
      "Directory: C:\\Users\\johan\\Desktop\\my_data\\Experiment_2 Filename:  blobs - Kopie (3).tif\n",
      "Directory: C:\\Users\\johan\\Desktop\\my_data\\Experiment_2 Filename:  blobs - Kopie.tif\n",
      "Directory: C:\\Users\\johan\\Desktop\\my_data\\Experiment_2 Filename:  blobs.tif\n"
     ]
    }
   ],
   "source": [
    "for root, subdirs, files in os.walk(data_dir):\n",
    "    for file in files:\n",
    "        if '.tif' in file:\n",
    "            print('Directory:', root, 'Filename: ', file)"
   ]
  },
  {
   "cell_type": "markdown",
   "id": "c8e4af88-6044-4d97-a61f-9c165e4e8e87",
   "metadata": {},
   "source": [
    "or, similarly using the `endswith()` function which are native to strings! This means that *every string* allows to execute this function on itself. One example:"
   ]
  },
  {
   "cell_type": "code",
   "execution_count": 48,
   "id": "e662b8b9-4237-4e87-94eb-dc9e4255de87",
   "metadata": {},
   "outputs": [
    {
     "name": "stdout",
     "output_type": "stream",
     "text": [
      "False\n",
      "True\n",
      "True\n"
     ]
    }
   ],
   "source": [
    "Name = 'Johannes Mueller'\n",
    "print(Name.endswith('Smith'))\n",
    "print(Name.endswith('ller'))\n",
    "print(Name.endswith('Mueller'))"
   ]
  },
  {
   "cell_type": "code",
   "execution_count": 50,
   "id": "f41e0ea2-cb37-4076-a39e-92fef1843915",
   "metadata": {},
   "outputs": [
    {
     "name": "stdout",
     "output_type": "stream",
     "text": [
      "Directory: C:\\Users\\johan\\Desktop\\my_data\\Experiment_1 Filename:  blobs - Kopie (2).tif\n",
      "Directory: C:\\Users\\johan\\Desktop\\my_data\\Experiment_1 Filename:  blobs - Kopie (3).tif\n",
      "Directory: C:\\Users\\johan\\Desktop\\my_data\\Experiment_1 Filename:  blobs - Kopie.tif\n",
      "Directory: C:\\Users\\johan\\Desktop\\my_data\\Experiment_1 Filename:  blobs.tif\n",
      "Directory: C:\\Users\\johan\\Desktop\\my_data\\Experiment_2 Filename:  blobs - Kopie (2).tif\n",
      "Directory: C:\\Users\\johan\\Desktop\\my_data\\Experiment_2 Filename:  blobs - Kopie (3).tif\n",
      "Directory: C:\\Users\\johan\\Desktop\\my_data\\Experiment_2 Filename:  blobs - Kopie.tif\n",
      "Directory: C:\\Users\\johan\\Desktop\\my_data\\Experiment_2 Filename:  blobs.tif\n"
     ]
    }
   ],
   "source": [
    "for root, subdirs, files in os.walk(data_dir):\n",
    "    for file in files:\n",
    "        if file.endswith('.tif'):\n",
    "            print('Directory:', root, 'Filename: ', file)"
   ]
  },
  {
   "cell_type": "code",
   "execution_count": null,
   "id": "7a8afcf5-7c3b-4975-8067-7c399a606f66",
   "metadata": {},
   "outputs": [],
   "source": []
  }
 ],
 "metadata": {
  "kernelspec": {
   "display_name": "Python 3 (ipykernel)",
   "language": "python",
   "name": "python3"
  },
  "language_info": {
   "codemirror_mode": {
    "name": "ipython",
    "version": 3
   },
   "file_extension": ".py",
   "mimetype": "text/x-python",
   "name": "python",
   "nbconvert_exporter": "python",
   "pygments_lexer": "ipython3",
   "version": "3.9.7"
  }
 },
 "nbformat": 4,
 "nbformat_minor": 5
}
